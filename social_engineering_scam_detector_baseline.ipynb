{
 "cells": [
  {
   "cell_type": "markdown",
   "id": "40b43c92",
   "metadata": {},
   "source": [
    "# Social Engineering Scam Detector baseline"
   ]
  },
  {
   "cell_type": "markdown",
   "id": "401b5663",
   "metadata": {},
   "source": [
    "Based on PHISHING EMAIL AND SPAM SMS AI DETECTION TOOL by Konstantinos Zafeiropoulos from Kaggle\n",
    "https://www.kaggle.com/code/zafko8/phishing-email-and-spam-sms-ai-detection-tool"
   ]
  },
  {
   "cell_type": "markdown",
   "id": "79178476",
   "metadata": {},
   "source": [
    "https://arxiv.org/pdf/2405.11619"
   ]
  },
  {
   "cell_type": "markdown",
   "id": "1c1ebad5",
   "metadata": {},
   "source": [
    "[Submitted on 19 May 2024]\n",
    "Novel Interpretable and Robust Web-based AI Platform for Phishing Email Detection\n",
    "\n",
    "Abdulla Al-Subaiey, Mohammed Al-Thani, Naser Abdullah Alam, Kaniz Fatema Antora, Amith Khandakar, SM Ashfaq Uz Zaman"
   ]
  },
  {
   "cell_type": "code",
   "execution_count": 1,
   "id": "a748d9ff",
   "metadata": {},
   "outputs": [
    {
     "data": {
      "text/plain": [
       "'/Users/VyasSrinivasan/AI-Social-Engineering-Scam-Detector'"
      ]
     },
     "execution_count": 1,
     "metadata": {},
     "output_type": "execute_result"
    }
   ],
   "source": [
    "import os \n",
    "os.getcwd()"
   ]
  },
  {
   "cell_type": "code",
   "execution_count": 2,
   "id": "f1b51617",
   "metadata": {},
   "outputs": [
    {
     "name": "stdout",
     "output_type": "stream",
     "text": [
      "Requirement already satisfied: shap in /Users/VyasSrinivasan/opt/anaconda3/lib/python3.7/site-packages (0.42.1)\n",
      "Requirement already satisfied: numpy in /Users/VyasSrinivasan/opt/anaconda3/lib/python3.7/site-packages (from shap) (1.21.6)\n",
      "Requirement already satisfied: scipy in /Users/VyasSrinivasan/opt/anaconda3/lib/python3.7/site-packages (from shap) (1.6.2)\n",
      "Requirement already satisfied: scikit-learn in /Users/VyasSrinivasan/opt/anaconda3/lib/python3.7/site-packages (from shap) (0.24.1)\n",
      "Requirement already satisfied: pandas in /Users/VyasSrinivasan/opt/anaconda3/lib/python3.7/site-packages (from shap) (1.2.4)\n",
      "Requirement already satisfied: tqdm>=4.27.0 in /Users/VyasSrinivasan/opt/anaconda3/lib/python3.7/site-packages (from shap) (4.59.0)\n",
      "Requirement already satisfied: packaging>20.9 in /Users/VyasSrinivasan/opt/anaconda3/lib/python3.7/site-packages (from shap) (24.0)\n",
      "Requirement already satisfied: slicer==0.0.7 in /Users/VyasSrinivasan/opt/anaconda3/lib/python3.7/site-packages (from shap) (0.0.7)\n",
      "Requirement already satisfied: numba in /Users/VyasSrinivasan/opt/anaconda3/lib/python3.7/site-packages (from shap) (0.53.1)\n",
      "Requirement already satisfied: cloudpickle in /Users/VyasSrinivasan/opt/anaconda3/lib/python3.7/site-packages (from shap) (1.6.0)\n",
      "Requirement already satisfied: llvmlite<0.37,>=0.36.0rc1 in /Users/VyasSrinivasan/opt/anaconda3/lib/python3.7/site-packages (from numba->shap) (0.36.0)\n",
      "Requirement already satisfied: setuptools in /Users/VyasSrinivasan/opt/anaconda3/lib/python3.7/site-packages (from numba->shap) (52.0.0.post20210125)\n",
      "Requirement already satisfied: python-dateutil>=2.7.3 in /Users/VyasSrinivasan/opt/anaconda3/lib/python3.7/site-packages (from pandas->shap) (2.8.1)\n",
      "Requirement already satisfied: pytz>=2017.3 in /Users/VyasSrinivasan/opt/anaconda3/lib/python3.7/site-packages (from pandas->shap) (2022.7.1)\n",
      "Requirement already satisfied: joblib>=0.11 in /Users/VyasSrinivasan/opt/anaconda3/lib/python3.7/site-packages (from scikit-learn->shap) (1.0.1)\n",
      "Requirement already satisfied: threadpoolctl>=2.0.0 in /Users/VyasSrinivasan/opt/anaconda3/lib/python3.7/site-packages (from scikit-learn->shap) (2.1.0)\n",
      "Requirement already satisfied: six>=1.5 in /Users/VyasSrinivasan/opt/anaconda3/lib/python3.7/site-packages (from python-dateutil>=2.7.3->pandas->shap) (1.15.0)\n",
      "\u001b[33mDEPRECATION: pyodbc 4.0.0-unsupported has a non-standard version number. pip 24.1 will enforce this behaviour change. A possible replacement is to upgrade to a newer version of pyodbc or contact the author to suggest that they release a version with a conforming version number. Discussion can be found at https://github.com/pypa/pip/issues/12063\u001b[0m\u001b[33m\n",
      "\u001b[0m"
     ]
    }
   ],
   "source": [
    "import sys\n",
    "!{sys.executable} -m pip install shap"
   ]
  },
  {
   "cell_type": "markdown",
   "id": "59d063c5",
   "metadata": {},
   "source": [
    "#### Import libraries"
   ]
  },
  {
   "cell_type": "code",
   "execution_count": 3,
   "id": "783f5013",
   "metadata": {},
   "outputs": [],
   "source": [
    "import pandas as pd\n",
    "import numpy as np\n",
    "import nltk\n",
    "import matplotlib.pyplot as plt\n",
    "import seaborn as sns\n",
    "from nltk.corpus import stopwords\n",
    "from collections import Counter\n",
    "\n",
    "from sklearn.model_selection import train_test_split\n",
    "from sklearn.feature_extraction.text import TfidfVectorizer\n",
    "from sklearn.linear_model import LogisticRegression\n",
    "from sklearn.metrics import accuracy_score, confusion_matrix"
   ]
  },
  {
   "cell_type": "code",
   "execution_count": 4,
   "id": "b090e667",
   "metadata": {},
   "outputs": [
    {
     "name": "stderr",
     "output_type": "stream",
     "text": [
      "[nltk_data] Downloading package stopwords to\n",
      "[nltk_data]     /Users/VyasSrinivasan/nltk_data...\n",
      "[nltk_data]   Package stopwords is already up-to-date!\n"
     ]
    },
    {
     "data": {
      "text/plain": [
       "True"
      ]
     },
     "execution_count": 4,
     "metadata": {},
     "output_type": "execute_result"
    }
   ],
   "source": [
    "nltk.download(\"stopwords\")"
   ]
  },
  {
   "cell_type": "markdown",
   "id": "888a305a",
   "metadata": {},
   "source": [
    "### Load datasets"
   ]
  },
  {
   "cell_type": "code",
   "execution_count": 5,
   "id": "fb06291d",
   "metadata": {},
   "outputs": [
    {
     "name": "stdout",
     "output_type": "stream",
     "text": [
      "Files in Current Directory: ['.DS_Store', 'models', '.ipynb_checkpoints', 'social_engineering_scam_detector_baseline.ipynb', 'data', 'notebooks']\n"
     ]
    }
   ],
   "source": [
    "print(\"Files in Current Directory:\", os.listdir(os.getcwd()))"
   ]
  },
  {
   "cell_type": "code",
   "execution_count": 6,
   "id": "4881f403",
   "metadata": {},
   "outputs": [],
   "source": [
    "#Email\n",
    "df_email = pd.read_csv(\"./data/email.csv\")\n",
    "df_email.columns = [\"Category\", \"Message\"]\n",
    "\n",
    "#SMS\n",
    "df_smsText = pd.read_csv(\"./data/Spam_SMS.csv\")\n",
    "df_smsText.columns = [\"Category\", \"Message\"]\n",
    "\n",
    "#UCI SMS\n",
    "df_uciSmsText = pd.read_csv(\"./data/SMSSpamCollection\", sep=\"\\t\", header=None, names=[\"Category\", \"Message\"])\n"
   ]
  },
  {
   "cell_type": "code",
   "execution_count": 7,
   "id": "85623dfe",
   "metadata": {},
   "outputs": [
    {
     "data": {
      "text/html": [
       "<div>\n",
       "<style scoped>\n",
       "    .dataframe tbody tr th:only-of-type {\n",
       "        vertical-align: middle;\n",
       "    }\n",
       "\n",
       "    .dataframe tbody tr th {\n",
       "        vertical-align: top;\n",
       "    }\n",
       "\n",
       "    .dataframe thead th {\n",
       "        text-align: right;\n",
       "    }\n",
       "</style>\n",
       "<table border=\"1\" class=\"dataframe\">\n",
       "  <thead>\n",
       "    <tr style=\"text-align: right;\">\n",
       "      <th></th>\n",
       "      <th>Category</th>\n",
       "      <th>Message</th>\n",
       "    </tr>\n",
       "  </thead>\n",
       "  <tbody>\n",
       "    <tr>\n",
       "      <th>0</th>\n",
       "      <td>ham</td>\n",
       "      <td>Go until jurong point, crazy.. Available only ...</td>\n",
       "    </tr>\n",
       "    <tr>\n",
       "      <th>1</th>\n",
       "      <td>ham</td>\n",
       "      <td>Ok lar... Joking wif u oni...</td>\n",
       "    </tr>\n",
       "    <tr>\n",
       "      <th>2</th>\n",
       "      <td>spam</td>\n",
       "      <td>Free entry in 2 a wkly comp to win FA Cup fina...</td>\n",
       "    </tr>\n",
       "    <tr>\n",
       "      <th>3</th>\n",
       "      <td>ham</td>\n",
       "      <td>U dun say so early hor... U c already then say...</td>\n",
       "    </tr>\n",
       "    <tr>\n",
       "      <th>4</th>\n",
       "      <td>ham</td>\n",
       "      <td>Nah I don't think he goes to usf, he lives aro...</td>\n",
       "    </tr>\n",
       "  </tbody>\n",
       "</table>\n",
       "</div>"
      ],
      "text/plain": [
       "  Category                                            Message\n",
       "0      ham  Go until jurong point, crazy.. Available only ...\n",
       "1      ham                      Ok lar... Joking wif u oni...\n",
       "2     spam  Free entry in 2 a wkly comp to win FA Cup fina...\n",
       "3      ham  U dun say so early hor... U c already then say...\n",
       "4      ham  Nah I don't think he goes to usf, he lives aro..."
      ]
     },
     "execution_count": 7,
     "metadata": {},
     "output_type": "execute_result"
    }
   ],
   "source": [
    "df_email.head()"
   ]
  },
  {
   "cell_type": "code",
   "execution_count": 8,
   "id": "d11606de",
   "metadata": {},
   "outputs": [
    {
     "data": {
      "text/html": [
       "<div>\n",
       "<style scoped>\n",
       "    .dataframe tbody tr th:only-of-type {\n",
       "        vertical-align: middle;\n",
       "    }\n",
       "\n",
       "    .dataframe tbody tr th {\n",
       "        vertical-align: top;\n",
       "    }\n",
       "\n",
       "    .dataframe thead th {\n",
       "        text-align: right;\n",
       "    }\n",
       "</style>\n",
       "<table border=\"1\" class=\"dataframe\">\n",
       "  <thead>\n",
       "    <tr style=\"text-align: right;\">\n",
       "      <th></th>\n",
       "      <th>Category</th>\n",
       "      <th>Message</th>\n",
       "    </tr>\n",
       "  </thead>\n",
       "  <tbody>\n",
       "    <tr>\n",
       "      <th>0</th>\n",
       "      <td>ham</td>\n",
       "      <td>Go until jurong point, crazy.. Available only ...</td>\n",
       "    </tr>\n",
       "    <tr>\n",
       "      <th>1</th>\n",
       "      <td>ham</td>\n",
       "      <td>Ok lar... Joking wif u oni...</td>\n",
       "    </tr>\n",
       "    <tr>\n",
       "      <th>2</th>\n",
       "      <td>spam</td>\n",
       "      <td>Free entry in 2 a wkly comp to win FA Cup fina...</td>\n",
       "    </tr>\n",
       "    <tr>\n",
       "      <th>3</th>\n",
       "      <td>ham</td>\n",
       "      <td>U dun say so early hor... U c already then say...</td>\n",
       "    </tr>\n",
       "    <tr>\n",
       "      <th>4</th>\n",
       "      <td>ham</td>\n",
       "      <td>Nah I don't think he goes to usf, he lives aro...</td>\n",
       "    </tr>\n",
       "  </tbody>\n",
       "</table>\n",
       "</div>"
      ],
      "text/plain": [
       "  Category                                            Message\n",
       "0      ham  Go until jurong point, crazy.. Available only ...\n",
       "1      ham                      Ok lar... Joking wif u oni...\n",
       "2     spam  Free entry in 2 a wkly comp to win FA Cup fina...\n",
       "3      ham  U dun say so early hor... U c already then say...\n",
       "4      ham  Nah I don't think he goes to usf, he lives aro..."
      ]
     },
     "execution_count": 8,
     "metadata": {},
     "output_type": "execute_result"
    }
   ],
   "source": [
    "df_smsText.head()"
   ]
  },
  {
   "cell_type": "code",
   "execution_count": 9,
   "id": "6205b97e",
   "metadata": {},
   "outputs": [
    {
     "data": {
      "text/html": [
       "<div>\n",
       "<style scoped>\n",
       "    .dataframe tbody tr th:only-of-type {\n",
       "        vertical-align: middle;\n",
       "    }\n",
       "\n",
       "    .dataframe tbody tr th {\n",
       "        vertical-align: top;\n",
       "    }\n",
       "\n",
       "    .dataframe thead th {\n",
       "        text-align: right;\n",
       "    }\n",
       "</style>\n",
       "<table border=\"1\" class=\"dataframe\">\n",
       "  <thead>\n",
       "    <tr style=\"text-align: right;\">\n",
       "      <th></th>\n",
       "      <th>Category</th>\n",
       "      <th>Message</th>\n",
       "    </tr>\n",
       "  </thead>\n",
       "  <tbody>\n",
       "    <tr>\n",
       "      <th>0</th>\n",
       "      <td>ham</td>\n",
       "      <td>Go until jurong point, crazy.. Available only ...</td>\n",
       "    </tr>\n",
       "    <tr>\n",
       "      <th>1</th>\n",
       "      <td>ham</td>\n",
       "      <td>Ok lar... Joking wif u oni...</td>\n",
       "    </tr>\n",
       "    <tr>\n",
       "      <th>2</th>\n",
       "      <td>spam</td>\n",
       "      <td>Free entry in 2 a wkly comp to win FA Cup fina...</td>\n",
       "    </tr>\n",
       "    <tr>\n",
       "      <th>3</th>\n",
       "      <td>ham</td>\n",
       "      <td>U dun say so early hor... U c already then say...</td>\n",
       "    </tr>\n",
       "    <tr>\n",
       "      <th>4</th>\n",
       "      <td>ham</td>\n",
       "      <td>Nah I don't think he goes to usf, he lives aro...</td>\n",
       "    </tr>\n",
       "  </tbody>\n",
       "</table>\n",
       "</div>"
      ],
      "text/plain": [
       "  Category                                            Message\n",
       "0      ham  Go until jurong point, crazy.. Available only ...\n",
       "1      ham                      Ok lar... Joking wif u oni...\n",
       "2     spam  Free entry in 2 a wkly comp to win FA Cup fina...\n",
       "3      ham  U dun say so early hor... U c already then say...\n",
       "4      ham  Nah I don't think he goes to usf, he lives aro..."
      ]
     },
     "execution_count": 9,
     "metadata": {},
     "output_type": "execute_result"
    }
   ],
   "source": [
    "df_uciSmsText.head()"
   ]
  },
  {
   "cell_type": "code",
   "execution_count": 10,
   "id": "178e0c6a",
   "metadata": {},
   "outputs": [],
   "source": [
    "phishingFiles = [\"CEAS_08\", \"Enron\", \"Ling\", \"Nazario\", \"Nigerian_Fraud\", \"phishing_email\", \"SpamAssasin\"]"
   ]
  },
  {
   "cell_type": "code",
   "execution_count": 11,
   "id": "bb9fd51d",
   "metadata": {},
   "outputs": [],
   "source": [
    "phishDF = []\n",
    "for phishFile in phishingFiles:\n",
    "    try:\n",
    "        df_temp = pd.read_csv(\"./data/Phishing/\" + phishFile + \".csv\")\n",
    "        df_temp = df_temp.iloc[:, :2]\n",
    "        df_temp.columns = [\"Category\", \"Message\"]\n",
    "        phishDF.append(df_temp)\n",
    "        \n",
    "    except Exception as e:\n",
    "        print(\"Error loading ./data/Phishing/\"+phishFile+ \".csv : \" + e)\n",
    "        "
   ]
  },
  {
   "cell_type": "code",
   "execution_count": 12,
   "id": "5ac046db",
   "metadata": {},
   "outputs": [],
   "source": [
    "#Combine the datasets\n",
    "df = pd.concat([df_smsText, df_email, df_uciSmsText] + phishDF, ignore_index=True)\n",
    "df.dropna(subset=[\"Category\", \"Message\"], inplace=True)"
   ]
  },
  {
   "cell_type": "code",
   "execution_count": 13,
   "id": "166e8093",
   "metadata": {},
   "outputs": [
    {
     "name": "stdout",
     "output_type": "stream",
     "text": [
      "Total Samples Before Balancing: 16718\n"
     ]
    }
   ],
   "source": [
    "# Clean and encode labels\n",
    "df[\"Category\"] = df[\"Category\"].astype(str).str.lower().str.strip()\n",
    "df = df[df[\"Category\"].isin([\"spam\", \"ham\"])]\n",
    "df[\"Category\"] = df[\"Category\"].map({\"spam\": 0, \"ham\": 1})\n",
    "df.dropna(inplace=True)\n",
    "\n",
    "print(f\"Total Samples Before Balancing: {df.shape[0]}\")"
   ]
  },
  {
   "cell_type": "code",
   "execution_count": 14,
   "id": "68bc2bc7",
   "metadata": {},
   "outputs": [
    {
     "data": {
      "image/png": "[encoded data removed]",
      "text/plain": [
       "<Figure size 432x288 with 1 Axes>"
      ]
     },
     "metadata": {
      "needs_background": "light"
     },
     "output_type": "display_data"
    }
   ],
   "source": [
    "# Visualize original distribution\n",
    "sns.countplot(data=df, x=\"Category\")\n",
    "plt.title(\"Original Distribution of Spam vs Ham\")\n",
    "plt.show()"
   ]
  },
  {
   "cell_type": "code",
   "execution_count": 15,
   "id": "4fb0a0de",
   "metadata": {},
   "outputs": [],
   "source": [
    "# Balance the dataset (undersampling)\n",
    "spam_df = df[df[\"Category\"] == 0]\n",
    "ham_df = df[df[\"Category\"] == 1].sample(len(spam_df), random_state=42)\n",
    "df_balanced = pd.concat([spam_df, ham_df]).sample(frac=1, random_state=42)"
   ]
  },
  {
   "cell_type": "code",
   "execution_count": 16,
   "id": "42fe3ee2",
   "metadata": {},
   "outputs": [
    {
     "data": {
      "image/png": "[encoded data removed]",
      "text/plain": [
       "<Figure size 432x288 with 1 Axes>"
      ]
     },
     "metadata": {
      "needs_background": "light"
     },
     "output_type": "display_data"
    }
   ],
   "source": [
    "# Visualize balanced data\n",
    "sns.countplot(data=df_balanced, x=\"Category\")\n",
    "plt.title(\"Balanced Spam vs Ham Distribution\")\n",
    "plt.show()"
   ]
  },
  {
   "cell_type": "code",
   "execution_count": 17,
   "id": "df965466",
   "metadata": {},
   "outputs": [],
   "source": [
    "# Train/test split on balanced data\n",
    "X = df_balanced[\"Message\"]\n",
    "Y = df_balanced[\"Category\"]\n",
    "X_train, X_test, Y_train, Y_test = train_test_split(X, Y, test_size=0.2, random_state=3)"
   ]
  },
  {
   "cell_type": "code",
   "execution_count": 18,
   "id": "67f8f30b",
   "metadata": {},
   "outputs": [],
   "source": [
    "# TF-IDF vectorization\n",
    "vectorizer = TfidfVectorizer(min_df=1, stop_words=\"english\", lowercase=True)\n",
    "X_train_features = vectorizer.fit_transform(X_train)\n",
    "X_test_features = vectorizer.transform(X_test)"
   ]
  },
  {
   "cell_type": "code",
   "execution_count": 19,
   "id": "e9d81198",
   "metadata": {},
   "outputs": [
    {
     "data": {
      "text/plain": [
       "LogisticRegression()"
      ]
     },
     "execution_count": 19,
     "metadata": {},
     "output_type": "execute_result"
    }
   ],
   "source": [
    "# Train model\n",
    "model = LogisticRegression()\n",
    "model.fit(X_train_features, Y_train)"
   ]
  },
  {
   "cell_type": "code",
   "execution_count": 20,
   "id": "818961d4",
   "metadata": {},
   "outputs": [],
   "source": [
    "# Evaluate model\n",
    "train_pred = model.predict(X_train_features)\n",
    "test_pred = model.predict(X_test_features)"
   ]
  },
  {
   "cell_type": "code",
   "execution_count": 21,
   "id": "f31ceb3e",
   "metadata": {},
   "outputs": [
    {
     "name": "stdout",
     "output_type": "stream",
     "text": [
      "📈 Accuracy on training data: 0.9896792189679219\n",
      "📊 Accuracy on testing data: 0.9743589743589743\n"
     ]
    }
   ],
   "source": [
    "print(\"Accuracy on training data:\", accuracy_score(Y_train, train_pred))\n",
    "print(\"Accuracy on testing data:\", accuracy_score(Y_test, test_pred))"
   ]
  },
  {
   "cell_type": "code",
   "execution_count": 22,
   "id": "f56918f7",
   "metadata": {},
   "outputs": [
    {
     "data": {
      "image/png": "[encoded data removed]",
      "text/plain": [
       "<Figure size 432x288 with 2 Axes>"
      ]
     },
     "metadata": {
      "needs_background": "light"
     },
     "output_type": "display_data"
    }
   ],
   "source": [
    "# Confusion matrix\n",
    "cm = confusion_matrix(Y_test, test_pred)\n",
    "sns.heatmap(cm, annot=True, fmt=\"d\", cmap=\"Blues\")\n",
    "plt.title(\"Confusion Matrix\")\n",
    "plt.xlabel(\"Predicted\")\n",
    "plt.ylabel(\"Actual\")\n",
    "plt.show()"
   ]
  },
  {
   "cell_type": "code",
   "execution_count": 23,
   "id": "e24d6a24",
   "metadata": {},
   "outputs": [
    {
     "name": "stdout",
     "output_type": "stream",
     "text": [
      "Message: Congratulations! You have won a free ticket to Bahamas! Click here.\n",
      "Prediction: Spam\n",
      "\n",
      "Message: Hey are we still on for lunch today?\n",
      "Prediction: Ham\n",
      "\n"
     ]
    }
   ],
   "source": [
    "# Test the model\n",
    "new_messages = [\"Congratulations! You have won a free ticket to Bahamas! Click here.\",\n",
    "                \"Hey are we still on for lunch today?\"]\n",
    "new_features = vectorizer.transform(new_messages)\n",
    "predictions = model.predict(new_features)\n",
    "\n",
    "for msg, pred in zip(new_messages, predictions):\n",
    "    label = \"Ham\" if pred == 1 else \"Spam\"\n",
    "    print(f\"Message: {msg}\\nPrediction: {label}\\n\")"
   ]
  },
  {
   "cell_type": "code",
   "execution_count": 24,
   "id": "b57138ab",
   "metadata": {},
   "outputs": [],
   "source": [
    "import time\n",
    "\n",
    "def predict_message(msg):\n",
    "    features = vectorizer.transform([msg])\n",
    "    \n",
    "    start_time = time.time()  # Start timer\n",
    "    result = model.predict(features)[0]\n",
    "    end_time = time.time()    # End timer\n",
    "\n",
    "    label = \"Ham\" if result == 1 else \"Spam\"\n",
    "    duration = (end_time - start_time) * 1000  # in milliseconds\n",
    "    print(f\"Message: {msg}\")\n",
    "    print(f\"Prediction: {label}\")\n",
    "    print(f\"Prediction Time: {duration:.4f} ms\")\n"
   ]
  },
  {
   "cell_type": "code",
   "execution_count": 25,
   "id": "48ad0ac2",
   "metadata": {},
   "outputs": [
    {
     "name": "stdout",
     "output_type": "stream",
     "text": [
      "Enter a message to check: Congratulations! You have won a free ticket to Bahamas! Click here.\",                 \"Hey are we still on for lunch today?\n",
      "Message: Congratulations! You have won a free ticket to Bahamas! Click here.\",                 \"Hey are we still on for lunch today?\n",
      "Prediction: Ham\n",
      "Prediction Time: 0.5388 ms\n"
     ]
    }
   ],
   "source": [
    "user_msg = input(\"Enter a message to check: \")\n",
    "predict_message(user_msg)"
   ]
  },
  {
   "cell_type": "code",
   "execution_count": 26,
   "id": "da041f3b",
   "metadata": {},
   "outputs": [
    {
     "name": "stdout",
     "output_type": "stream",
     "text": [
      "              precision    recall  f1-score   support\n",
      "\n",
      "        Spam       0.98      0.97      0.97       458\n",
      "         Ham       0.96      0.98      0.97       439\n",
      "\n",
      "    accuracy                           0.97       897\n",
      "   macro avg       0.97      0.97      0.97       897\n",
      "weighted avg       0.97      0.97      0.97       897\n",
      "\n"
     ]
    }
   ],
   "source": [
    "from sklearn.metrics import classification_report\n",
    "\n",
    "print(classification_report(Y_test, test_pred, target_names=[\"Spam\", \"Ham\"]))"
   ]
  },
  {
   "cell_type": "code",
   "execution_count": 27,
   "id": "ee96023a",
   "metadata": {},
   "outputs": [
    {
     "data": {
      "image/png": "[encoded data removed]",
      "text/plain": [
       "<Figure size 720x432 with 1 Axes>"
      ]
     },
     "metadata": {
      "needs_background": "light"
     },
     "output_type": "display_data"
    }
   ],
   "source": [
    "# Most common spam words\n",
    "stop_words = set(stopwords.words(\"english\"))\n",
    "spam_words = \" \".join(df[df['Category'] == 0]['Message']).split()\n",
    "word_freq = Counter([word.lower() for word in spam_words if word.lower() not in stop_words and word.isalpha()])\n",
    "\n",
    "plt.figure(figsize=(10, 6))\n",
    "plt.bar(*zip(*word_freq.most_common(7)), color='orange')\n",
    "plt.title(\"Top 7 Most Common Words in Spam Messages\")\n",
    "plt.xlabel(\"Words\")\n",
    "plt.ylabel(\"Frequency\")\n",
    "plt.xticks(rotation=45)\n",
    "plt.show()"
   ]
  },
  {
   "cell_type": "code",
   "execution_count": 28,
   "id": "67b2dd70",
   "metadata": {},
   "outputs": [],
   "source": [
    "#Explainability, Reducing AI Risks\n",
    "\n",
    "import shap\n",
    "\n",
    "# Convert sparse matrix to dense\n",
    "X_sample_dense = X_test_features[:5].toarray()\n",
    "\n",
    "# Use LinearExplainer for LogisticRegression\n",
    "explainer = shap.Explainer(model, X_train_features[:100].toarray())  # small background for performance\n",
    "shap_values = explainer(X_sample_dense)"
   ]
  },
  {
   "cell_type": "code",
   "execution_count": 29,
   "id": "592309e5",
   "metadata": {},
   "outputs": [
    {
     "name": "stdout",
     "output_type": "stream",
     "text": [
      "             Word  Mean SHAP Value\n",
      "5435          www         0.260129\n",
      "4866         text         0.201251\n",
      "4655         stop         0.200190\n",
      "3559           ok         0.194533\n",
      "5067          txt         0.132832\n",
      "2256         free         0.130302\n",
      "3324       mobile         0.127126\n",
      "3488        nokia         0.123162\n",
      "5090           uk         0.118455\n",
      "5143           ur         0.114875\n",
      "4984         tone         0.113532\n",
      "5318         week         0.095636\n",
      "2535         help         0.095324\n",
      "1743         dear         0.094910\n",
      "1576        comuk         0.079369\n",
      "5128  unsubscribe         0.075340\n",
      "3786          pls         0.068291\n",
      "4884        thanx         0.064694\n",
      "4344     services         0.060560\n",
      "353            16         0.059501\n"
     ]
    },
    {
     "data": {
      "image/png": "[encoded data removed]",
      "text/plain": [
       "<Figure size 720x432 with 1 Axes>"
      ]
     },
     "metadata": {
      "needs_background": "light"
     },
     "output_type": "display_data"
    }
   ],
   "source": [
    "# Get TF-IDF feature names\n",
    "feature_names = vectorizer.get_feature_names()\n",
    "\n",
    "# Get mean absolute SHAP values\n",
    "import numpy as np\n",
    "mean_shap_values = np.abs(shap_values.values).mean(axis=0)\n",
    "\n",
    "# Create DataFrame mapping feature indices to words\n",
    "import pandas as pd\n",
    "shap_df = pd.DataFrame({\n",
    "    'Word': feature_names,\n",
    "    'Mean SHAP Value': mean_shap_values\n",
    "})\n",
    "\n",
    "# Sort and display top 20 most influential words\n",
    "shap_df_sorted = shap_df.sort_values(by='Mean SHAP Value', ascending=False).head(20)\n",
    "print(shap_df_sorted)\n",
    "\n",
    "# Plot top SHAP words\n",
    "import matplotlib.pyplot as plt\n",
    "\n",
    "plt.figure(figsize=(10, 6))\n",
    "plt.barh(shap_df_sorted['Word'], shap_df_sorted['Mean SHAP Value'], color='orange')\n",
    "plt.xlabel(\"Mean |SHAP Value|\")\n",
    "plt.title(\"Top 20 Words Influencing Spam Classification\")\n",
    "plt.gca().invert_yaxis()\n",
    "plt.show()"
   ]
  },
  {
   "cell_type": "code",
   "execution_count": 30,
   "id": "a008cac0",
   "metadata": {},
   "outputs": [],
   "source": [
    "def test_real_email():\n",
    "    import time\n",
    "\n",
    "    # Ask user to paste their email\n",
    "    print(\"Paste the full email content below (e.g., subject + body):\\n\")\n",
    "    email_text = input(\"Email: \")\n",
    "\n",
    "    # Transform with vectorizer\n",
    "    features = vectorizer.transform([email_text])\n",
    "\n",
    "    # Predict\n",
    "    start_time = time.time()\n",
    "    result = model.predict(features)[0]\n",
    "    end_time = time.time()\n",
    "\n",
    "    # Interpret result\n",
    "    label = \"Ham (Safe Message)\" if result == 1 else \"Spam/Phishing\"\n",
    "    print(\"\\nEmail Content Preview:\")\n",
    "    print(\"-\" * 60)\n",
    "    print(email_text[:300] + (\"...\" if len(email_text) > 300 else \"\"))\n",
    "    print(\"-\" * 60)\n",
    "    print(f\"Prediction: {label}\")\n",
    "    print(f\"Prediction Time: {(end_time - start_time)*1000:.2f} ms\")"
   ]
  },
  {
   "cell_type": "code",
   "execution_count": 31,
   "id": "9fd43cfc",
   "metadata": {},
   "outputs": [
    {
     "name": "stdout",
     "output_type": "stream",
     "text": [
      "Paste the full email content below (e.g., subject + body):\n",
      "\n",
      "✉️ Email: Get Outlook for iOS -- Good Morning  Vyas Please share your direct mobile contact with me as soon as possible? Kindly email it promptly.  Thank you\n",
      "\n",
      "Email Content Preview:\n",
      "------------------------------------------------------------\n",
      "Get Outlook for iOS -- Good Morning  Vyas Please share your direct mobile contact with me as soon as possible? Kindly email it promptly.  Thank you\n",
      "------------------------------------------------------------\n",
      "Prediction: Ham (Safe Message)\n",
      "Prediction Time: 0.37 ms\n"
     ]
    }
   ],
   "source": [
    "# Call this to test\n",
    "test_real_email()"
   ]
  }
 ],
 "metadata": {
  "kernelspec": {
   "display_name": "Python 3",
   "language": "python",
   "name": "python3"
  },
  "language_info": {
   "codemirror_mode": {
    "name": "ipython",
    "version": 3
   },
   "file_extension": ".py",
   "mimetype": "text/x-python",
   "name": "python",
   "nbconvert_exporter": "python",
   "pygments_lexer": "ipython3",
   "version": "3.7.10"
  }
 },
 "nbformat": 4,
 "nbformat_minor": 5
}
