{
 "cells": [
  {
   "cell_type": "markdown",
   "id": "be780367",
   "metadata": {},
   "source": [
    "# Social Engineering Scam Detection with LLMs"
   ]
  },
  {
   "cell_type": "markdown",
   "id": "732ff597",
   "metadata": {},
   "source": [
    "Ronish Nair, Fahim Abbasi, and Shahbaz Pervez. 2025. PhishEmailLLM:A Meta Model Approach to Detect Phishing emails by leveraging LLMs and Machine Learning models. In 2025 Australasian Computer Science Week (ACSW 2025), February 10–13, 2025, Brisbane, QLD, Australia. ACM, New York, NY, USA, 11 pages. https://doi.org/10.1145/3727166.3727169"
   ]
  },
  {
   "cell_type": "code",
   "execution_count": 1,
   "id": "d198fb3b",
   "metadata": {},
   "outputs": [
    {
     "data": {
      "text/plain": [
       "'/Users/VyasSrinivasan/AI-Social-Engineering-Scam-Detector'"
      ]
     },
     "execution_count": 1,
     "metadata": {},
     "output_type": "execute_result"
    }
   ],
   "source": [
    "import os \n",
    "os.getcwd()"
   ]
  },
  {
   "cell_type": "markdown",
   "id": "22d616a3",
   "metadata": {},
   "source": [
    "### Imports"
   ]
  },
  {
   "cell_type": "code",
   "execution_count": 2,
   "id": "85e348be",
   "metadata": {},
   "outputs": [],
   "source": [
    "import pandas as pd\n",
    "import numpy as np\n",
    "import nltk\n",
    "import matplotlib.pyplot as plt\n",
    "import seaborn as sns\n",
    "from nltk.corpus import stopwords\n",
    "from collections import Counter\n",
    "\n",
    "from sklearn.model_selection import train_test_split\n",
    "from sklearn.feature_extraction.text import TfidfVectorizer\n",
    "from sklearn.linear_model import LogisticRegression\n",
    "from sklearn.metrics import accuracy_score, confusion_matrix\n"
   ]
  },
  {
   "cell_type": "code",
   "execution_count": null,
   "id": "5f8538f0",
   "metadata": {},
   "outputs": [],
   "source": [
    "nltk.download(\"stopwords\")"
   ]
  },
  {
   "cell_type": "markdown",
   "id": "39345bb7",
   "metadata": {},
   "source": [
    "### Load Datasets"
   ]
  },
  {
   "cell_type": "code",
   "execution_count": null,
   "id": "ae59d9c4",
   "metadata": {},
   "outputs": [],
   "source": [
    "#Email\n",
    "df_email = pd.read_csv(\"./data/email.csv\")\n",
    "df_email.columns = [\"Category\", \"Message\"]\n",
    "\n",
    "df_email.head()"
   ]
  },
  {
   "cell_type": "code",
   "execution_count": null,
   "id": "01e1dfee",
   "metadata": {},
   "outputs": [],
   "source": [
    "#SMS\n",
    "df_smsText = pd.read_csv(\"./data/Spam_SMS.csv\")\n",
    "df_smsText.columns = [\"Category\", \"Message\"]\n",
    "\n",
    "df_smsText.head()"
   ]
  },
  {
   "cell_type": "code",
   "execution_count": null,
   "id": "a6e939f1",
   "metadata": {},
   "outputs": [],
   "source": [
    "#UCI SMS\n",
    "df_uciSmsText = pd.read_csv(\"./data/SMSSpamCollection\", sep=\"\\t\", header=None, names=[\"Category\", \"Message\"])\n",
    "df_uciSmsText.head()"
   ]
  },
  {
   "cell_type": "code",
   "execution_count": null,
   "id": "fd5cb72f",
   "metadata": {},
   "outputs": [],
   "source": [
    "phishingFiles = [\"CEAS_08\", \"Enron\", \"Ling\", \"Nazario\", \"Nigerian_Fraud\", \"phishing_email\", \"SpamAssasin\"]"
   ]
  },
  {
   "cell_type": "code",
   "execution_count": null,
   "id": "bc342350",
   "metadata": {},
   "outputs": [],
   "source": [
    "phishDF = []\n",
    "for phishFile in phishingFiles:\n",
    "    try:\n",
    "        df_temp = pd.read_csv(\"./data/Phishing/\" + phishFile + \".csv\")\n",
    "        df_temp = df_temp.iloc[:, :2]\n",
    "        df_temp.columns = [\"Category\", \"Message\"]\n",
    "        phishDF.append(df_temp)\n",
    "        \n",
    "    except Exception as e:\n",
    "        print(\"Error loading ./data/Phishing/\"+phishFile+ \".csv : \" + e)\n",
    "        "
   ]
  },
  {
   "cell_type": "markdown",
   "id": "883c4da3",
   "metadata": {},
   "source": [
    "### Combine Datasets"
   ]
  },
  {
   "cell_type": "code",
   "execution_count": null,
   "id": "bb613866",
   "metadata": {},
   "outputs": [],
   "source": [
    "df = pd.concat([df_smsText, df_email, df_uciSmsText] + phishDF, ignore_index=True)\n",
    "df.dropna(subset=[\"Category\", \"Message\"], inplace=True)"
   ]
  },
  {
   "cell_type": "markdown",
   "id": "21dec5fa",
   "metadata": {},
   "source": [
    "### Data Cleaning"
   ]
  },
  {
   "cell_type": "code",
   "execution_count": null,
   "id": "3581cfaf",
   "metadata": {},
   "outputs": [],
   "source": [
    "df[\"Category\"] = df[\"Category\"].astype(str).str.lower().str.strip()\n",
    "df = df[df[\"Category\"].isin([\"spam\", \"ham\"])]\n",
    "df[\"Category\"] = df[\"Category\"].map({\"spam\": 0, \"ham\": 1})\n",
    "df.dropna(inplace=True)\n",
    "\n",
    "print(f\"Total Samples Before Balancing: {df.shape[0]}\")"
   ]
  },
  {
   "cell_type": "markdown",
   "id": "b6422edd",
   "metadata": {},
   "source": [
    "### Original distribution"
   ]
  },
  {
   "cell_type": "code",
   "execution_count": null,
   "id": "55898cc4",
   "metadata": {},
   "outputs": [],
   "source": [
    "sns.countplot(data=df, x=\"Category\")\n",
    "plt.title(\"Original Distribution of Spam vs Ham\")\n",
    "plt.show()"
   ]
  },
  {
   "cell_type": "markdown",
   "id": "8cc19cfa",
   "metadata": {},
   "source": [
    "### Balanced Distribution"
   ]
  },
  {
   "cell_type": "code",
   "execution_count": null,
   "id": "5333d70d",
   "metadata": {},
   "outputs": [],
   "source": [
    "spam_df = df[df[\"Category\"] == 0]\n",
    "ham_df = df[df[\"Category\"] == 1].sample(len(spam_df), random_state=42)\n",
    "df_balanced = pd.concat([spam_df, ham_df]).sample(frac=1, random_state=42)"
   ]
  },
  {
   "cell_type": "code",
   "execution_count": null,
   "id": "54073167",
   "metadata": {},
   "outputs": [],
   "source": [
    "sns.countplot(data=df_balanced, x=\"Category\")\n",
    "plt.title(\"Balanced Spam vs Ham Distribution\")\n",
    "plt.show()"
   ]
  },
  {
   "cell_type": "markdown",
   "id": "37d58308",
   "metadata": {},
   "source": [
    "### Train/test split"
   ]
  },
  {
   "cell_type": "code",
   "execution_count": null,
   "id": "0bbd2de7",
   "metadata": {},
   "outputs": [],
   "source": [
    "X = df_balanced[\"Message\"]\n",
    "Y = df_balanced[\"Category\"]\n",
    "X_train, X_test, Y_train, Y_test = train_test_split(X, Y, test_size=0.2, random_state=3)"
   ]
  },
  {
   "cell_type": "markdown",
   "id": "f7085f28",
   "metadata": {},
   "source": [
    "### LLMs"
   ]
  },
  {
   "cell_type": "code",
   "execution_count": null,
   "id": "779a9900",
   "metadata": {},
   "outputs": [],
   "source": []
  },
  {
   "cell_type": "markdown",
   "id": "825164c9",
   "metadata": {},
   "source": [
    "###  Feature Extraction"
   ]
  },
  {
   "cell_type": "code",
   "execution_count": null,
   "id": "1a61b953",
   "metadata": {},
   "outputs": [],
   "source": [
    "# TF-IDF vectorization\n",
    "vectorizer = TfidfVectorizer(min_df=1, stop_words=\"english\", lowercase=True)\n",
    "X_train_features = vectorizer.fit_transform(X_train)\n",
    "X_test_features = vectorizer.transform(X_test)"
   ]
  },
  {
   "cell_type": "markdown",
   "id": "55672990",
   "metadata": {},
   "source": [
    "### Models"
   ]
  },
  {
   "cell_type": "markdown",
   "id": "c34e36d4",
   "metadata": {},
   "source": [
    "Training/Testing"
   ]
  },
  {
   "cell_type": "code",
   "execution_count": null,
   "id": "8a7bfd25",
   "metadata": {},
   "outputs": [],
   "source": [
    "# Llama3.1"
   ]
  },
  {
   "cell_type": "code",
   "execution_count": null,
   "id": "3aebac6e",
   "metadata": {},
   "outputs": [],
   "source": [
    "# Llama3.2"
   ]
  },
  {
   "cell_type": "code",
   "execution_count": null,
   "id": "bd02f550",
   "metadata": {},
   "outputs": [],
   "source": [
    "# Gemma2"
   ]
  },
  {
   "cell_type": "code",
   "execution_count": null,
   "id": "e7636510",
   "metadata": {},
   "outputs": [],
   "source": [
    "# Qwen2.5"
   ]
  },
  {
   "cell_type": "code",
   "execution_count": null,
   "id": "f2b96264",
   "metadata": {},
   "outputs": [],
   "source": [
    "# Mistral"
   ]
  },
  {
   "cell_type": "code",
   "execution_count": null,
   "id": "f036accb",
   "metadata": {},
   "outputs": [],
   "source": [
    "# Granite3 Dense"
   ]
  },
  {
   "cell_type": "markdown",
   "id": "89e6bc09",
   "metadata": {},
   "source": [
    "Evaluation"
   ]
  },
  {
   "cell_type": "code",
   "execution_count": null,
   "id": "616adcd4",
   "metadata": {},
   "outputs": [],
   "source": [
    "# Precision\n",
    "\n",
    "# Recall\n",
    "\n",
    "# Accuracy\n",
    "\n",
    "# F1"
   ]
  }
 ],
 "metadata": {
  "kernelspec": {
   "display_name": "Python 3",
   "language": "python",
   "name": "python3"
  },
  "language_info": {
   "codemirror_mode": {
    "name": "ipython",
    "version": 3
   },
   "file_extension": ".py",
   "mimetype": "text/x-python",
   "name": "python",
   "nbconvert_exporter": "python",
   "pygments_lexer": "ipython3",
   "version": "3.7.10"
  }
 },
 "nbformat": 4,
 "nbformat_minor": 5
}
