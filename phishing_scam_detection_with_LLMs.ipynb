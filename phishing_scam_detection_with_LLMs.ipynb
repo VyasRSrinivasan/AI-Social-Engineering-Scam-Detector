{
 "cells": [
  {
   "cell_type": "markdown",
   "id": "be780367",
   "metadata": {},
   "source": [
    "# Social Engineering Scam Detection with LLMs"
   ]
  },
  {
   "cell_type": "markdown",
   "id": "732ff597",
   "metadata": {},
   "source": [
    "Ronish Nair, Fahim Abbasi, and Shahbaz Pervez. 2025. PhishEmailLLM:A Meta Model Approach to Detect Phishing emails by leveraging LLMs and Machine Learning models. In 2025 Australasian Computer Science Week (ACSW 2025), February 10–13, 2025, Brisbane, QLD, Australia. ACM, New York, NY, USA, 11 pages. https://doi.org/10.1145/3727166.3727169"
   ]
  },
  {
   "cell_type": "code",
   "execution_count": null,
   "id": "d198fb3b",
   "metadata": {},
   "outputs": [],
   "source": [
    "import os \n",
    "os.getcwd()"
   ]
  },
  {
   "cell_type": "markdown",
   "id": "22d616a3",
   "metadata": {},
   "source": [
    "### Imports"
   ]
  },
  {
   "cell_type": "code",
   "execution_count": null,
   "id": "85e348be",
   "metadata": {},
   "outputs": [],
   "source": [
    "import pandas as pd\n",
    "import numpy as np\n",
    "import nltk\n",
    "import matplotlib.pyplot as plt\n",
    "import seaborn as sns\n",
    "from nltk.corpus import stopwords\n",
    "from collections import Counter\n",
    "\n",
    "from sklearn.model_selection import train_test_split\n",
    "from sklearn.feature_extraction.text import TfidfVectorizer\n",
    "from sklearn.linear_model import LogisticRegression\n",
    "from sklearn.metrics import accuracy_score, confusion_matrix"
   ]
  },
  {
   "cell_type": "code",
   "execution_count": null,
   "id": "5f8538f0",
   "metadata": {},
   "outputs": [],
   "source": [
    "nltk.download(\"stopwords\")"
   ]
  },
  {
   "cell_type": "markdown",
   "id": "39345bb7",
   "metadata": {},
   "source": [
    "### Load Datasets"
   ]
  },
  {
   "cell_type": "code",
   "execution_count": null,
   "id": "ae59d9c4",
   "metadata": {},
   "outputs": [],
   "source": [
    "#Enron Public Email Corpus\n",
    "\n",
    "#Spam Assassin Corpus\n",
    "\n",
    "#Phishing Pot"
   ]
  },
  {
   "cell_type": "markdown",
   "id": "bf0707a0",
   "metadata": {},
   "source": [
    "### Data Pre-processing "
   ]
  },
  {
   "cell_type": "markdown",
   "id": "21dec5fa",
   "metadata": {},
   "source": []
  },
  {
   "cell_type": "code",
   "execution_count": null,
   "id": "3581cfaf",
   "metadata": {},
   "outputs": [],
   "source": []
  },
  {
   "cell_type": "markdown",
   "id": "825164c9",
   "metadata": {},
   "source": [
    "###  Feature Extraction"
   ]
  },
  {
   "cell_type": "code",
   "execution_count": null,
   "id": "1a61b953",
   "metadata": {},
   "outputs": [],
   "source": []
  },
  {
   "cell_type": "markdown",
   "id": "55672990",
   "metadata": {},
   "source": [
    "### Models"
   ]
  },
  {
   "cell_type": "markdown",
   "id": "c34e36d4",
   "metadata": {},
   "source": [
    "Training/Testing"
   ]
  },
  {
   "cell_type": "code",
   "execution_count": null,
   "id": "8a7bfd25",
   "metadata": {},
   "outputs": [],
   "source": [
    "# Llama3.1"
   ]
  },
  {
   "cell_type": "code",
   "execution_count": null,
   "id": "3aebac6e",
   "metadata": {},
   "outputs": [],
   "source": [
    "# Llama3.2"
   ]
  },
  {
   "cell_type": "code",
   "execution_count": null,
   "id": "bd02f550",
   "metadata": {},
   "outputs": [],
   "source": [
    "# Gemma2"
   ]
  },
  {
   "cell_type": "code",
   "execution_count": null,
   "id": "e7636510",
   "metadata": {},
   "outputs": [],
   "source": [
    "# Qwen2.5"
   ]
  },
  {
   "cell_type": "code",
   "execution_count": null,
   "id": "f2b96264",
   "metadata": {},
   "outputs": [],
   "source": [
    "# Mistral"
   ]
  },
  {
   "cell_type": "code",
   "execution_count": null,
   "id": "f036accb",
   "metadata": {},
   "outputs": [],
   "source": [
    "# Granite3 Dense"
   ]
  },
  {
   "cell_type": "markdown",
   "id": "89e6bc09",
   "metadata": {},
   "source": [
    "Evaluation"
   ]
  },
  {
   "cell_type": "code",
   "execution_count": null,
   "id": "616adcd4",
   "metadata": {},
   "outputs": [],
   "source": [
    "# Precision\n",
    "\n",
    "# Recall\n",
    "\n",
    "# Accuracy\n",
    "\n",
    "# F1"
   ]
  }
 ],
 "metadata": {
  "kernelspec": {
   "display_name": "Python 3",
   "language": "python",
   "name": "python3"
  },
  "language_info": {
   "codemirror_mode": {
    "name": "ipython",
    "version": 3
   },
   "file_extension": ".py",
   "mimetype": "text/x-python",
   "name": "python",
   "nbconvert_exporter": "python",
   "pygments_lexer": "ipython3",
   "version": "3.7.10"
  }
 },
 "nbformat": 4,
 "nbformat_minor": 5
}
